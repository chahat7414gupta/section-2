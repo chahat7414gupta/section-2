{
 "cells": [
  {
   "cell_type": "markdown",
   "id": "57522b11-44a9-4dea-bed8-00753cd91226",
   "metadata": {},
   "source": [
    "# Importing the Important Liberaries"
   ]
  },
  {
   "cell_type": "code",
   "execution_count": 6,
   "id": "7392f7e6-604e-4e0e-afd5-99c9ac887b90",
   "metadata": {},
   "outputs": [],
   "source": [
    "import pandas as pd\n",
    "import numpy as np\n",
    "import matplotlib.pyplot as plt\n",
    "%matplotlib inline\n",
    "import seaborn as sns"
   ]
  },
  {
   "cell_type": "markdown",
   "id": "97c393d2-0dce-4ce8-bf1b-0bb7304e5d72",
   "metadata": {},
   "source": [
    "# load the data from the system"
   ]
  },
  {
   "cell_type": "code",
   "execution_count": 7,
   "id": "9d410702-14d3-42f1-a672-fc3988c48d65",
   "metadata": {},
   "outputs": [],
   "source": [
    "# Load data from sheet 1\n",
    "sh1 = pd.read_excel('RetailPulseAssignmentData (2).xlsx', sheet_name='Year 2009-2010')\n",
    "\n",
    "#Load data from sheet 2\n",
    "sh2 = pd.read_excel('RetailPulseAssignmentData (2).xlsx', sheet_name='Year 2010-2011')"
   ]
  },
  {
   "cell_type": "markdown",
   "id": "d4b3502c-01f6-4068-b4c8-ec1f40db9e9f",
   "metadata": {},
   "source": [
    "#  Successfully converted that data into dataframe"
   ]
  },
  {
   "cell_type": "code",
   "execution_count": 8,
   "id": "7dc3bed4-3770-4984-9f9f-4ca70cdac151",
   "metadata": {
    "tags": []
   },
   "outputs": [
    {
     "data": {
      "text/html": [
       "<div>\n",
       "<style scoped>\n",
       "    .dataframe tbody tr th:only-of-type {\n",
       "        vertical-align: middle;\n",
       "    }\n",
       "\n",
       "    .dataframe tbody tr th {\n",
       "        vertical-align: top;\n",
       "    }\n",
       "\n",
       "    .dataframe thead th {\n",
       "        text-align: right;\n",
       "    }\n",
       "</style>\n",
       "<table border=\"1\" class=\"dataframe\">\n",
       "  <thead>\n",
       "    <tr style=\"text-align: right;\">\n",
       "      <th></th>\n",
       "      <th>Invoice</th>\n",
       "      <th>StockCode</th>\n",
       "      <th>Description</th>\n",
       "      <th>Quantity</th>\n",
       "      <th>InvoiceDate</th>\n",
       "      <th>Price</th>\n",
       "      <th>Customer ID</th>\n",
       "      <th>Country</th>\n",
       "    </tr>\n",
       "  </thead>\n",
       "  <tbody>\n",
       "    <tr>\n",
       "      <th>0</th>\n",
       "      <td>489434</td>\n",
       "      <td>85048</td>\n",
       "      <td>15CM CHRISTMAS GLASS BALL 20 LIGHTS</td>\n",
       "      <td>12</td>\n",
       "      <td>2009-12-01 07:45:00</td>\n",
       "      <td>6.95</td>\n",
       "      <td>13085.0</td>\n",
       "      <td>United Kingdom</td>\n",
       "    </tr>\n",
       "    <tr>\n",
       "      <th>1</th>\n",
       "      <td>489434</td>\n",
       "      <td>79323P</td>\n",
       "      <td>PINK CHERRY LIGHTS</td>\n",
       "      <td>12</td>\n",
       "      <td>2009-12-01 07:45:00</td>\n",
       "      <td>6.75</td>\n",
       "      <td>13085.0</td>\n",
       "      <td>United Kingdom</td>\n",
       "    </tr>\n",
       "    <tr>\n",
       "      <th>2</th>\n",
       "      <td>489434</td>\n",
       "      <td>79323W</td>\n",
       "      <td>WHITE CHERRY LIGHTS</td>\n",
       "      <td>12</td>\n",
       "      <td>2009-12-01 07:45:00</td>\n",
       "      <td>6.75</td>\n",
       "      <td>13085.0</td>\n",
       "      <td>United Kingdom</td>\n",
       "    </tr>\n",
       "    <tr>\n",
       "      <th>3</th>\n",
       "      <td>489434</td>\n",
       "      <td>22041</td>\n",
       "      <td>RECORD FRAME 7\" SINGLE SIZE</td>\n",
       "      <td>48</td>\n",
       "      <td>2009-12-01 07:45:00</td>\n",
       "      <td>2.10</td>\n",
       "      <td>13085.0</td>\n",
       "      <td>United Kingdom</td>\n",
       "    </tr>\n",
       "    <tr>\n",
       "      <th>4</th>\n",
       "      <td>489434</td>\n",
       "      <td>21232</td>\n",
       "      <td>STRAWBERRY CERAMIC TRINKET BOX</td>\n",
       "      <td>24</td>\n",
       "      <td>2009-12-01 07:45:00</td>\n",
       "      <td>1.25</td>\n",
       "      <td>13085.0</td>\n",
       "      <td>United Kingdom</td>\n",
       "    </tr>\n",
       "    <tr>\n",
       "      <th>...</th>\n",
       "      <td>...</td>\n",
       "      <td>...</td>\n",
       "      <td>...</td>\n",
       "      <td>...</td>\n",
       "      <td>...</td>\n",
       "      <td>...</td>\n",
       "      <td>...</td>\n",
       "      <td>...</td>\n",
       "    </tr>\n",
       "    <tr>\n",
       "      <th>525456</th>\n",
       "      <td>538171</td>\n",
       "      <td>22271</td>\n",
       "      <td>FELTCRAFT DOLL ROSIE</td>\n",
       "      <td>2</td>\n",
       "      <td>2010-12-09 20:01:00</td>\n",
       "      <td>2.95</td>\n",
       "      <td>17530.0</td>\n",
       "      <td>United Kingdom</td>\n",
       "    </tr>\n",
       "    <tr>\n",
       "      <th>525457</th>\n",
       "      <td>538171</td>\n",
       "      <td>22750</td>\n",
       "      <td>FELTCRAFT PRINCESS LOLA DOLL</td>\n",
       "      <td>1</td>\n",
       "      <td>2010-12-09 20:01:00</td>\n",
       "      <td>3.75</td>\n",
       "      <td>17530.0</td>\n",
       "      <td>United Kingdom</td>\n",
       "    </tr>\n",
       "    <tr>\n",
       "      <th>525458</th>\n",
       "      <td>538171</td>\n",
       "      <td>22751</td>\n",
       "      <td>FELTCRAFT PRINCESS OLIVIA DOLL</td>\n",
       "      <td>1</td>\n",
       "      <td>2010-12-09 20:01:00</td>\n",
       "      <td>3.75</td>\n",
       "      <td>17530.0</td>\n",
       "      <td>United Kingdom</td>\n",
       "    </tr>\n",
       "    <tr>\n",
       "      <th>525459</th>\n",
       "      <td>538171</td>\n",
       "      <td>20970</td>\n",
       "      <td>PINK FLORAL FELTCRAFT SHOULDER BAG</td>\n",
       "      <td>2</td>\n",
       "      <td>2010-12-09 20:01:00</td>\n",
       "      <td>3.75</td>\n",
       "      <td>17530.0</td>\n",
       "      <td>United Kingdom</td>\n",
       "    </tr>\n",
       "    <tr>\n",
       "      <th>525460</th>\n",
       "      <td>538171</td>\n",
       "      <td>21931</td>\n",
       "      <td>JUMBO STORAGE BAG SUKI</td>\n",
       "      <td>2</td>\n",
       "      <td>2010-12-09 20:01:00</td>\n",
       "      <td>1.95</td>\n",
       "      <td>17530.0</td>\n",
       "      <td>United Kingdom</td>\n",
       "    </tr>\n",
       "  </tbody>\n",
       "</table>\n",
       "<p>525461 rows × 8 columns</p>\n",
       "</div>"
      ],
      "text/plain": [
       "       Invoice StockCode                          Description  Quantity  \\\n",
       "0       489434     85048  15CM CHRISTMAS GLASS BALL 20 LIGHTS        12   \n",
       "1       489434    79323P                   PINK CHERRY LIGHTS        12   \n",
       "2       489434    79323W                  WHITE CHERRY LIGHTS        12   \n",
       "3       489434     22041         RECORD FRAME 7\" SINGLE SIZE         48   \n",
       "4       489434     21232       STRAWBERRY CERAMIC TRINKET BOX        24   \n",
       "...        ...       ...                                  ...       ...   \n",
       "525456  538171     22271                 FELTCRAFT DOLL ROSIE         2   \n",
       "525457  538171     22750         FELTCRAFT PRINCESS LOLA DOLL         1   \n",
       "525458  538171     22751       FELTCRAFT PRINCESS OLIVIA DOLL         1   \n",
       "525459  538171     20970   PINK FLORAL FELTCRAFT SHOULDER BAG         2   \n",
       "525460  538171     21931               JUMBO STORAGE BAG SUKI         2   \n",
       "\n",
       "               InvoiceDate  Price  Customer ID         Country  \n",
       "0      2009-12-01 07:45:00   6.95      13085.0  United Kingdom  \n",
       "1      2009-12-01 07:45:00   6.75      13085.0  United Kingdom  \n",
       "2      2009-12-01 07:45:00   6.75      13085.0  United Kingdom  \n",
       "3      2009-12-01 07:45:00   2.10      13085.0  United Kingdom  \n",
       "4      2009-12-01 07:45:00   1.25      13085.0  United Kingdom  \n",
       "...                    ...    ...          ...             ...  \n",
       "525456 2010-12-09 20:01:00   2.95      17530.0  United Kingdom  \n",
       "525457 2010-12-09 20:01:00   3.75      17530.0  United Kingdom  \n",
       "525458 2010-12-09 20:01:00   3.75      17530.0  United Kingdom  \n",
       "525459 2010-12-09 20:01:00   3.75      17530.0  United Kingdom  \n",
       "525460 2010-12-09 20:01:00   1.95      17530.0  United Kingdom  \n",
       "\n",
       "[525461 rows x 8 columns]"
      ]
     },
     "execution_count": 8,
     "metadata": {},
     "output_type": "execute_result"
    }
   ],
   "source": [
    "sh1"
   ]
  },
  {
   "cell_type": "code",
   "execution_count": 9,
   "id": "f937f36b-bed2-4c71-80fe-944abb055f0c",
   "metadata": {
    "tags": []
   },
   "outputs": [
    {
     "data": {
      "text/html": [
       "<div>\n",
       "<style scoped>\n",
       "    .dataframe tbody tr th:only-of-type {\n",
       "        vertical-align: middle;\n",
       "    }\n",
       "\n",
       "    .dataframe tbody tr th {\n",
       "        vertical-align: top;\n",
       "    }\n",
       "\n",
       "    .dataframe thead th {\n",
       "        text-align: right;\n",
       "    }\n",
       "</style>\n",
       "<table border=\"1\" class=\"dataframe\">\n",
       "  <thead>\n",
       "    <tr style=\"text-align: right;\">\n",
       "      <th></th>\n",
       "      <th>Invoice</th>\n",
       "      <th>StockCode</th>\n",
       "      <th>Description</th>\n",
       "      <th>Quantity</th>\n",
       "      <th>InvoiceDate</th>\n",
       "      <th>Price</th>\n",
       "      <th>Customer ID</th>\n",
       "      <th>Country</th>\n",
       "    </tr>\n",
       "  </thead>\n",
       "  <tbody>\n",
       "    <tr>\n",
       "      <th>0</th>\n",
       "      <td>536365</td>\n",
       "      <td>85123A</td>\n",
       "      <td>WHITE HANGING HEART T-LIGHT HOLDER</td>\n",
       "      <td>6</td>\n",
       "      <td>2010-12-01 08:26:00</td>\n",
       "      <td>2.55</td>\n",
       "      <td>17850.0</td>\n",
       "      <td>United Kingdom</td>\n",
       "    </tr>\n",
       "    <tr>\n",
       "      <th>1</th>\n",
       "      <td>536365</td>\n",
       "      <td>71053</td>\n",
       "      <td>WHITE METAL LANTERN</td>\n",
       "      <td>6</td>\n",
       "      <td>2010-12-01 08:26:00</td>\n",
       "      <td>3.39</td>\n",
       "      <td>17850.0</td>\n",
       "      <td>United Kingdom</td>\n",
       "    </tr>\n",
       "    <tr>\n",
       "      <th>2</th>\n",
       "      <td>536365</td>\n",
       "      <td>84406B</td>\n",
       "      <td>CREAM CUPID HEARTS COAT HANGER</td>\n",
       "      <td>8</td>\n",
       "      <td>2010-12-01 08:26:00</td>\n",
       "      <td>2.75</td>\n",
       "      <td>17850.0</td>\n",
       "      <td>United Kingdom</td>\n",
       "    </tr>\n",
       "    <tr>\n",
       "      <th>3</th>\n",
       "      <td>536365</td>\n",
       "      <td>84029G</td>\n",
       "      <td>KNITTED UNION FLAG HOT WATER BOTTLE</td>\n",
       "      <td>6</td>\n",
       "      <td>2010-12-01 08:26:00</td>\n",
       "      <td>3.39</td>\n",
       "      <td>17850.0</td>\n",
       "      <td>United Kingdom</td>\n",
       "    </tr>\n",
       "    <tr>\n",
       "      <th>4</th>\n",
       "      <td>536365</td>\n",
       "      <td>84029E</td>\n",
       "      <td>RED WOOLLY HOTTIE WHITE HEART.</td>\n",
       "      <td>6</td>\n",
       "      <td>2010-12-01 08:26:00</td>\n",
       "      <td>3.39</td>\n",
       "      <td>17850.0</td>\n",
       "      <td>United Kingdom</td>\n",
       "    </tr>\n",
       "    <tr>\n",
       "      <th>...</th>\n",
       "      <td>...</td>\n",
       "      <td>...</td>\n",
       "      <td>...</td>\n",
       "      <td>...</td>\n",
       "      <td>...</td>\n",
       "      <td>...</td>\n",
       "      <td>...</td>\n",
       "      <td>...</td>\n",
       "    </tr>\n",
       "    <tr>\n",
       "      <th>541905</th>\n",
       "      <td>581587</td>\n",
       "      <td>22899</td>\n",
       "      <td>CHILDREN'S APRON DOLLY GIRL</td>\n",
       "      <td>6</td>\n",
       "      <td>2011-12-09 12:50:00</td>\n",
       "      <td>2.10</td>\n",
       "      <td>12680.0</td>\n",
       "      <td>France</td>\n",
       "    </tr>\n",
       "    <tr>\n",
       "      <th>541906</th>\n",
       "      <td>581587</td>\n",
       "      <td>23254</td>\n",
       "      <td>CHILDRENS CUTLERY DOLLY GIRL</td>\n",
       "      <td>4</td>\n",
       "      <td>2011-12-09 12:50:00</td>\n",
       "      <td>4.15</td>\n",
       "      <td>12680.0</td>\n",
       "      <td>France</td>\n",
       "    </tr>\n",
       "    <tr>\n",
       "      <th>541907</th>\n",
       "      <td>581587</td>\n",
       "      <td>23255</td>\n",
       "      <td>CHILDRENS CUTLERY CIRCUS PARADE</td>\n",
       "      <td>4</td>\n",
       "      <td>2011-12-09 12:50:00</td>\n",
       "      <td>4.15</td>\n",
       "      <td>12680.0</td>\n",
       "      <td>France</td>\n",
       "    </tr>\n",
       "    <tr>\n",
       "      <th>541908</th>\n",
       "      <td>581587</td>\n",
       "      <td>22138</td>\n",
       "      <td>BAKING SET 9 PIECE RETROSPOT</td>\n",
       "      <td>3</td>\n",
       "      <td>2011-12-09 12:50:00</td>\n",
       "      <td>4.95</td>\n",
       "      <td>12680.0</td>\n",
       "      <td>France</td>\n",
       "    </tr>\n",
       "    <tr>\n",
       "      <th>541909</th>\n",
       "      <td>581587</td>\n",
       "      <td>POST</td>\n",
       "      <td>POSTAGE</td>\n",
       "      <td>1</td>\n",
       "      <td>2011-12-09 12:50:00</td>\n",
       "      <td>18.00</td>\n",
       "      <td>12680.0</td>\n",
       "      <td>France</td>\n",
       "    </tr>\n",
       "  </tbody>\n",
       "</table>\n",
       "<p>541910 rows × 8 columns</p>\n",
       "</div>"
      ],
      "text/plain": [
       "       Invoice StockCode                          Description  Quantity  \\\n",
       "0       536365    85123A   WHITE HANGING HEART T-LIGHT HOLDER         6   \n",
       "1       536365     71053                  WHITE METAL LANTERN         6   \n",
       "2       536365    84406B       CREAM CUPID HEARTS COAT HANGER         8   \n",
       "3       536365    84029G  KNITTED UNION FLAG HOT WATER BOTTLE         6   \n",
       "4       536365    84029E       RED WOOLLY HOTTIE WHITE HEART.         6   \n",
       "...        ...       ...                                  ...       ...   \n",
       "541905  581587     22899         CHILDREN'S APRON DOLLY GIRL          6   \n",
       "541906  581587     23254        CHILDRENS CUTLERY DOLLY GIRL          4   \n",
       "541907  581587     23255      CHILDRENS CUTLERY CIRCUS PARADE         4   \n",
       "541908  581587     22138        BAKING SET 9 PIECE RETROSPOT          3   \n",
       "541909  581587      POST                              POSTAGE         1   \n",
       "\n",
       "               InvoiceDate  Price  Customer ID         Country  \n",
       "0      2010-12-01 08:26:00   2.55      17850.0  United Kingdom  \n",
       "1      2010-12-01 08:26:00   3.39      17850.0  United Kingdom  \n",
       "2      2010-12-01 08:26:00   2.75      17850.0  United Kingdom  \n",
       "3      2010-12-01 08:26:00   3.39      17850.0  United Kingdom  \n",
       "4      2010-12-01 08:26:00   3.39      17850.0  United Kingdom  \n",
       "...                    ...    ...          ...             ...  \n",
       "541905 2011-12-09 12:50:00   2.10      12680.0          France  \n",
       "541906 2011-12-09 12:50:00   4.15      12680.0          France  \n",
       "541907 2011-12-09 12:50:00   4.15      12680.0          France  \n",
       "541908 2011-12-09 12:50:00   4.95      12680.0          France  \n",
       "541909 2011-12-09 12:50:00  18.00      12680.0          France  \n",
       "\n",
       "[541910 rows x 8 columns]"
      ]
     },
     "execution_count": 9,
     "metadata": {},
     "output_type": "execute_result"
    }
   ],
   "source": [
    "sh2"
   ]
  },
  {
   "cell_type": "markdown",
   "id": "a37691c5-2ce0-4a92-af77-0f6ba73a26dd",
   "metadata": {
    "tags": []
   },
   "source": [
    " # In Data Analysis we are taking care of these steps\n",
    "1. Handling Missing Values \n",
    "2. Handling Outliars\n",
    "3. Handling Distribution of the Variables \n",
    "4. Handling Categorial values\n",
    "5. All the Numerical Variables \n",
    "6. Relationship between Independent and dependent variables "
   ]
  },
  {
   "cell_type": "markdown",
   "id": "5abeac13-ec17-453d-bd8f-f7a655459c8f",
   "metadata": {},
   "source": [
    "#### Gathering Information about dataset"
   ]
  },
  {
   "cell_type": "code",
   "execution_count": 11,
   "id": "cb676613-3902-4d48-9626-f041727ab114",
   "metadata": {
    "collapsed": true,
    "jupyter": {
     "outputs_hidden": true
    },
    "tags": []
   },
   "outputs": [
    {
     "name": "stdout",
     "output_type": "stream",
     "text": [
      "<class 'pandas.core.frame.DataFrame'>\n",
      "RangeIndex: 525461 entries, 0 to 525460\n",
      "Data columns (total 8 columns):\n",
      " #   Column       Non-Null Count   Dtype         \n",
      "---  ------       --------------   -----         \n",
      " 0   Invoice      525461 non-null  object        \n",
      " 1   StockCode    525461 non-null  object        \n",
      " 2   Description  522533 non-null  object        \n",
      " 3   Quantity     525461 non-null  int64         \n",
      " 4   InvoiceDate  525461 non-null  datetime64[ns]\n",
      " 5   Price        525461 non-null  float64       \n",
      " 6   Customer ID  417534 non-null  float64       \n",
      " 7   Country      525461 non-null  object        \n",
      "dtypes: datetime64[ns](1), float64(2), int64(1), object(4)\n",
      "memory usage: 32.1+ MB\n"
     ]
    }
   ],
   "source": [
    "sh1.info()"
   ]
  },
  {
   "cell_type": "code",
   "execution_count": 12,
   "id": "a3196d7e-8182-468d-bb8d-186dd955481b",
   "metadata": {
    "collapsed": true,
    "jupyter": {
     "outputs_hidden": true
    },
    "tags": []
   },
   "outputs": [
    {
     "data": {
      "text/plain": [
       "Invoice             0\n",
       "StockCode           0\n",
       "Description      1454\n",
       "Quantity            0\n",
       "InvoiceDate         0\n",
       "Price               0\n",
       "Customer ID    135080\n",
       "Country             0\n",
       "dtype: int64"
      ]
     },
     "execution_count": 35,
     "metadata": {},
     "output_type": "execute_result"
    }
   ],
   "source": [
    "sh2.info()"
   ]
  },
  {
   "cell_type": "markdown",
   "id": "b32887d1-e5de-42f0-a435-41672fc98b26",
   "metadata": {},
   "source": [
    "#### For Missing values in  sheet-1"
   ]
  },
  {
   "cell_type": "code",
   "execution_count": 13,
   "id": "627094a6-a095-46d1-a311-e76a8377123c",
   "metadata": {},
   "outputs": [],
   "source": [
    "features_with_nan=[features for features in sh1.columns if sh1[features].isnull().sum()>=1]"
   ]
  },
  {
   "cell_type": "code",
   "execution_count": 14,
   "id": "4ce5d171-f58c-4798-8798-8822a3d948bd",
   "metadata": {},
   "outputs": [
    {
     "data": {
      "text/plain": [
       "['Description', 'Customer ID']"
      ]
     },
     "execution_count": 19,
     "metadata": {},
     "output_type": "execute_result"
    }
   ],
   "source": [
    "features_with_nan"
   ]
  },
  {
   "cell_type": "code",
   "execution_count": 23,
   "id": "d59293ea-080c-46f6-8de0-1a71a8f2e637",
   "metadata": {},
   "outputs": [
    {
     "name": "stdout",
     "output_type": "stream",
     "text": [
      "Description 0.5572 % missing values\n",
      "Customer ID 20.5395 % missing values\n"
     ]
    }
   ],
   "source": [
    "for features in features_with_nan:\n",
    "    print(features,np.round(sh1[features].isnull().mean()*100,4), '% missing values')"
   ]
  },
  {
   "cell_type": "markdown",
   "id": "f7c8b446-3b82-40cf-b166-7deec5fb15e0",
   "metadata": {},
   "source": [
    "#### Now plotting the graph to visulize the relationship between null values and price"
   ]
  },
  {
   "cell_type": "code",
   "execution_count": 24,
   "id": "07d76137-7362-4a62-b7d8-525d7ee6e19d",
   "metadata": {
    "collapsed": true,
    "jupyter": {
     "outputs_hidden": true
    },
    "tags": []
   },
   "outputs": [
    {
     "data": {
      "image/png": "[encoded data removed]",
      "text/plain": [
       "<Figure size 640x480 with 1 Axes>"
      ]
     },
     "metadata": {},
     "output_type": "display_data"
    },
    {
     "data": {
      "image/png": "[encoded data removed]",
      "text/plain": [
       "<Figure size 640x480 with 1 Axes>"
      ]
     },
     "metadata": {},
     "output_type": "display_data"
    }
   ],
   "source": [
    "df1=sh1.copy()\n",
    "for features in features_with_nan:\n",
    "    df1[features]=np.where(df1[features].isnull(),1,0)\n",
    "   \t# Lets calculate the mean SalePrice where the information is missing or present\n",
    "    df1.groupby(features)['Price'].median().plot.bar()\n",
    "    plt.title(features)\n",
    "    plt.show()"
   ]
  },
  {
   "cell_type": "markdown",
   "id": "de1ec7e1-712c-458e-b027-ae3e57aaf469",
   "metadata": {},
   "source": [
    "#### Observations:- Based on the analysis of the dataset, it was observed that only two features had missing values. Furthermore, a graph was plotted to explore the relationship between the feature_with_nan_values and the price. However, the graph revealed no correlation between the feature_with_nan_values and the price of the dataset. Therefore, it can be concluded that the missing values in the feature_with_nan_values do not have any significant impact on the overall Ssles."
   ]
  },
  {
   "cell_type": "markdown",
   "id": "c2995a18-1a18-45eb-8188-158e5f6c38cd",
   "metadata": {},
   "source": [
    "#### For Missing values in  sheet-2"
   ]
  },
  {
   "cell_type": "code",
   "execution_count": 30,
   "id": "f160db5e-4e4c-4cee-832c-c50fc2bf0809",
   "metadata": {},
   "outputs": [],
   "source": [
    "features_with_nan_sh2=[features for features in sh2.columns if sh2[features].isnull().sum()>=1]"
   ]
  },
  {
   "cell_type": "code",
   "execution_count": 31,
   "id": "1d4db149-002f-4987-86c7-2ab46bcb0773",
   "metadata": {},
   "outputs": [
    {
     "data": {
      "text/plain": [
       "['Description', 'Customer ID']"
      ]
     },
     "execution_count": 31,
     "metadata": {},
     "output_type": "execute_result"
    }
   ],
   "source": [
    "features_with_nan_sh2"
   ]
  },
  {
   "cell_type": "code",
   "execution_count": 32,
   "id": "599c9214-c6a8-4dd6-ae62-90de610988c5",
   "metadata": {},
   "outputs": [
    {
     "name": "stdout",
     "output_type": "stream",
     "text": [
      "Description 0.5572 % missing values\n",
      "Customer ID 20.5395 % missing values\n"
     ]
    }
   ],
   "source": [
    "for features in features_with_nan:\n",
    "    print(features,np.round(sh1[features].isnull().mean()*100,4), '% missing values')"
   ]
  },
  {
   "cell_type": "markdown",
   "id": "a8066c77-4ead-4c91-81c3-115d114e4dbf",
   "metadata": {},
   "source": [
    "#### Now plotting the graph to visulize the relationship between null values and price"
   ]
  },
  {
   "cell_type": "code",
   "execution_count": 36,
   "id": "9a7016a8-217f-4583-bb42-6a880fc20934",
   "metadata": {},
   "outputs": [
    {
     "data": {
      "image/png": "[encoded data removed]",
      "text/plain": [
       "<Figure size 640x480 with 1 Axes>"
      ]
     },
     "metadata": {},
     "output_type": "display_data"
    },
    {
     "data": {
      "image/png": "[encoded data removed]",
      "text/plain": [
       "<Figure size 640x480 with 1 Axes>"
      ]
     },
     "metadata": {},
     "output_type": "display_data"
    }
   ],
   "source": [
    "df2=sh2.copy()\n",
    "for features in features_with_nan:\n",
    "    df2[features]=np.where(df2[features].isnull(),1,0)\n",
    "   \t# Lets calculate the mean SalePrice where the information is missing or present\n",
    "    df2.groupby(features)['Price'].median().plot.bar()\n",
    "    plt.title(features)\n",
    "    plt.show()"
   ]
  },
  {
   "cell_type": "markdown",
   "id": "b54a1a86-cd77-4322-94f3-c0424c18d463",
   "metadata": {},
   "source": [
    "Observations:- Based on the analysis of the dataset, it was observed that only two features had missing values. Furthermore, a graph was plotted to explore the relationship between the feature_with_nan_values_sh2 and the price. However, the graph revealed no correlation between the feature_with_nan_values_sh2 and the price of the dataset. Therefore, it can be concluded that the missing values in the feature_with_nan_values do not have any significant impact on the overall Sales."
   ]
  },
  {
   "cell_type": "markdown",
   "id": "0980f95a-2516-45c4-bf5f-e1e8f71f2ec7",
   "metadata": {},
   "source": [
    "### Handling Categorial values in Sheet-1"
   ]
  },
  {
   "cell_type": "code",
   "execution_count": 41,
   "id": "1667a254-1129-4783-abf6-25ac82047352",
   "metadata": {},
   "outputs": [],
   "source": [
    "categorical_features=[feature for feature in sh1.columns if sh1[feature].dtypes=='O']"
   ]
  },
  {
   "cell_type": "code",
   "execution_count": 42,
   "id": "40c33f0a-1c5b-4baf-a4fa-21341af65161",
   "metadata": {},
   "outputs": [
    {
     "data": {
      "text/plain": [
       "['Invoice', 'StockCode', 'Description', 'Country']"
      ]
     },
     "execution_count": 42,
     "metadata": {},
     "output_type": "execute_result"
    }
   ],
   "source": [
    "categorical_features"
   ]
  },
  {
   "cell_type": "markdown",
   "id": "d9cff0d5-5324-4c6a-91d4-a58c5c559c26",
   "metadata": {},
   "source": [
    "###### In this analysis, we have performed geographic segmentation by examining the distribution of transactions, average purchase value, and the number of purchases by country. We have identified that the majority of transactions in this dataset are from the United Kingdom, followed by Germany, France, and EIRE. Additionally, we have found that the average purchase value varies significantly across countries, with the highest average purchase value from the Netherlands, followed by Australia and Sweden. This information can be used to identify high-value customers and to develop targeted marketing strategies for each country."
   ]
  },
  {
   "cell_type": "code",
   "execution_count": 45,
   "id": "c9ff2591-0698-4555-9467-8b53e10032ff",
   "metadata": {
    "collapsed": true,
    "jupyter": {
     "outputs_hidden": true
    },
    "tags": []
   },
   "outputs": [
    {
     "name": "stdout",
     "output_type": "stream",
     "text": [
      "Country\n",
      "United Kingdom          4035\n",
      "Germany                   68\n",
      "France                    47\n",
      "Spain                     25\n",
      "Netherlands               23\n",
      "Portugal                  18\n",
      "Belgium                   17\n",
      "Sweden                    16\n",
      "Australia                 15\n",
      "Switzerland               14\n",
      "Channel Islands           12\n",
      "Italy                     11\n",
      "Austria                   10\n",
      "Denmark                    9\n",
      "Finland                    8\n",
      "Cyprus                     7\n",
      "USA                        6\n",
      "Japan                      6\n",
      "EIRE                       5\n",
      "Unspecified                5\n",
      "Norway                     5\n",
      "Greece                     4\n",
      "United Arab Emirates       4\n",
      "Poland                     2\n",
      "Korea                      2\n",
      "Israel                     2\n",
      "Bahrain                    2\n",
      "Nigeria                    1\n",
      "Malta                      1\n",
      "Lithuania                  1\n",
      "RSA                        1\n",
      "Singapore                  1\n",
      "Iceland                    1\n",
      "Thailand                   1\n",
      "Canada                     1\n",
      "Brazil                     1\n",
      "West Indies                1\n",
      "Lebanon                    0\n",
      "Hong Kong                  0\n",
      "Bermuda                    0\n",
      "Name: Customer ID, dtype: int64\n"
     ]
    }
   ],
   "source": [
    "Customers_by_country = sh1.groupby('Country')['Customer ID'].nunique().sort_values(ascending=False)\n",
    "print(Customers_by_country)"
   ]
  },
  {
   "cell_type": "markdown",
   "id": "56b10421-59e0-4c7e-9748-61f1a4d5de76",
   "metadata": {},
   "source": [
    "### Handling Categorial values in Sheet-2"
   ]
  },
  {
   "cell_type": "code",
   "execution_count": 46,
   "id": "80200224-4ff1-4419-a139-5aaa0a9348fd",
   "metadata": {},
   "outputs": [
    {
     "data": {
      "text/plain": [
       "['Invoice', 'StockCode', 'Description', 'Country']"
      ]
     },
     "execution_count": 46,
     "metadata": {},
     "output_type": "execute_result"
    }
   ],
   "source": [
    "categorical_features_2=[feature for feature in sh2.columns if sh2[feature].dtypes=='O']\n",
    "categorical_features_2"
   ]
  },
  {
   "cell_type": "code",
   "execution_count": 47,
   "id": "8c5c4460-1d8b-4770-acd3-e6b8d8b1c5eb",
   "metadata": {},
   "outputs": [
    {
     "name": "stdout",
     "output_type": "stream",
     "text": [
      "Country\n",
      "United Kingdom          3950\n",
      "Germany                   95\n",
      "France                    87\n",
      "Spain                     31\n",
      "Belgium                   25\n",
      "Switzerland               21\n",
      "Portugal                  19\n",
      "Italy                     15\n",
      "Finland                   12\n",
      "Austria                   11\n",
      "Norway                    10\n",
      "Netherlands                9\n",
      "Australia                  9\n",
      "Channel Islands            9\n",
      "Denmark                    9\n",
      "Cyprus                     8\n",
      "Sweden                     8\n",
      "Japan                      8\n",
      "Poland                     6\n",
      "USA                        4\n",
      "Canada                     4\n",
      "Unspecified                4\n",
      "Israel                     4\n",
      "Greece                     4\n",
      "EIRE                       3\n",
      "Malta                      2\n",
      "United Arab Emirates       2\n",
      "Bahrain                    2\n",
      "Lithuania                  1\n",
      "Czech Republic             1\n",
      "Lebanon                    1\n",
      "RSA                        1\n",
      "Saudi Arabia               1\n",
      "Singapore                  1\n",
      "Iceland                    1\n",
      "Brazil                     1\n",
      "European Community         1\n",
      "Hong Kong                  0\n",
      "Name: Customer ID, dtype: int64\n"
     ]
    }
   ],
   "source": [
    "Customers_by_country = sh2.groupby('Country')['Customer ID'].nunique().sort_values(ascending=False)\n",
    "print(Customers_by_country)"
   ]
  },
  {
   "cell_type": "markdown",
   "id": "4b923bcd-9a18-4426-8fff-833a1476c7e8",
   "metadata": {},
   "source": [
    "####  Observations in both sheets:-\n",
    "\t1.The United Kingdom has the highest number of unique customers, with over 3900 unique customer IDs. \n",
    "\t2. Other countries with a high number of unique customers include Germany, France, and Spain.\n",
    "\t3. Some countries have relatively fewer unique customers, such as Bahrain, Saudi Arabia, and RSA. \n",
    "    4.The number of unique customers in a country does not necessarily correspond to the number of transactions or the total amount of revenue generated in that country. Further analysis is needed to understand customer behavior and purchase patterns in each country.\n",
    "    5.This information can be used to develop targeted marketing campaigns and strategies for each country, with a focus on retaining existing customers and attracting new customers in countries with a smaller customer base."
   ]
  },
  {
   "cell_type": "markdown",
   "id": "935f079c-0676-4e36-84d7-99263e3d2dd7",
   "metadata": {},
   "source": [
    "## How would you define a loyal customer?"
   ]
  },
  {
   "cell_type": "markdown",
   "id": "a4dc9491-f39c-4792-8837-a83a09bd05bf",
   "metadata": {},
   "source": [
    "# Loyal Customer implimentation sheet-1"
   ]
  },
  {
   "cell_type": "code",
   "execution_count": 58,
   "id": "dddaaeb2-1acb-4839-9b9c-71dca5cf74b0",
   "metadata": {},
   "outputs": [
    {
     "name": "stdout",
     "output_type": "stream",
     "text": [
      "Number of loyal customers by country:\n",
      "Country\n",
      "United Kingdom     935\n",
      "Germany             23\n",
      "France              15\n",
      "Spain                4\n",
      "Sweden               3\n",
      "Netherlands          3\n",
      "Australia            3\n",
      "EIRE                 3\n",
      "Belgium              2\n",
      "Switzerland          2\n",
      "Greece               1\n",
      "Japan                1\n",
      "Denmark              1\n",
      "Poland               1\n",
      "Portugal             1\n",
      "Cyprus               1\n",
      "Channel Islands      1\n",
      "Italy                1\n",
      "Name: Customer ID, dtype: int64\n",
      "\n",
      "List of loyal customers and their country:\n",
      "             Country  Customer ID\n",
      "8          Australia      12415.0\n",
      "10         Australia      12422.0\n",
      "12         Australia      12431.0\n",
      "30           Belgium      12380.0\n",
      "36           Belgium      12417.0\n",
      "...              ...          ...\n",
      "4347  United Kingdom      18245.0\n",
      "4350  United Kingdom      18251.0\n",
      "4357  United Kingdom      18258.0\n",
      "4359  United Kingdom      18260.0\n",
      "4371  United Kingdom      18276.0\n",
      "\n",
      "[1001 rows x 2 columns]\n"
     ]
    }
   ],
   "source": [
    "# filter for customers with 7 or more unique invoices\n",
    "loyal_customers = sh1.groupby(['Country', 'Customer ID'])['Invoice'].nunique().reset_index(name='Invoice_count')\n",
    "loyal_customers = loyal_customers[loyal_customers['Invoice_count'] >= 7]\n",
    "\n",
    "# count the number of loyal customers by country\n",
    "loyal_customers_by_country = loyal_customers.groupby('Country')['Customer ID'].nunique().sort_values(ascending=False)\n",
    "\n",
    "# create a DataFrame with the list of loyal customers and their country\n",
    "loyal_customers_df = pd.DataFrame({'Country': loyal_customers['Country'], 'Customer ID': loyal_customers['Customer ID']})\n",
    "\n",
    "# print the resulting DataFrames\n",
    "print(\"Number of loyal customers by country:\")\n",
    "print(loyal_customers_by_country)\n",
    "\n",
    "print(\"\\nList of loyal customers and their country:\")\n",
    "print(loyal_customers_df)"
   ]
  },
  {
   "cell_type": "markdown",
   "id": "c7509069-999e-401b-98a1-93f791305a6d",
   "metadata": {},
   "source": [
    "# Loyal Customer implimentation sheet-2"
   ]
  },
  {
   "cell_type": "code",
   "execution_count": 57,
   "id": "2c1b138a-52fd-4469-8917-d1984e9adf0d",
   "metadata": {},
   "outputs": [
    {
     "name": "stdout",
     "output_type": "stream",
     "text": [
      "Number of loyal customers by country:\n",
      "Country\n",
      "United Kingdom     805\n",
      "France              23\n",
      "Germany             23\n",
      "Belgium              7\n",
      "Switzerland          4\n",
      "Italy                3\n",
      "Spain                3\n",
      "Portugal             3\n",
      "Australia            3\n",
      "Finland              3\n",
      "Netherlands          2\n",
      "Norway               2\n",
      "EIRE                 2\n",
      "Sweden               2\n",
      "Japan                1\n",
      "Iceland              1\n",
      "Poland               1\n",
      "Singapore            1\n",
      "Channel Islands      1\n",
      "Malta                1\n",
      "Name: Customer ID, dtype: int64\n",
      "\n",
      "List of loyal customers and their country:\n",
      "             Country  Customer ID\n",
      "3          Australia      12415.0\n",
      "6          Australia      12431.0\n",
      "8          Australia      16321.0\n",
      "23           Belgium      12362.0\n",
      "30           Belgium      12395.0\n",
      "...              ...          ...\n",
      "4346  United Kingdom      18245.0\n",
      "4355  United Kingdom      18257.0\n",
      "4357  United Kingdom      18260.0\n",
      "4365  United Kingdom      18272.0\n",
      "4374  United Kingdom      18283.0\n",
      "\n",
      "[891 rows x 2 columns]\n"
     ]
    }
   ],
   "source": [
    "# filter for customers with 7 or more unique invoices\n",
    "loyal_customers = sh2.groupby(['Country', 'Customer ID'])['Invoice'].nunique().reset_index(name='Invoice_count')\n",
    "loyal_customers = loyal_customers[loyal_customers['Invoice_count'] >= 7]\n",
    "\n",
    "# count the number of loyal customers by country\n",
    "loyal_customers_by_country = loyal_customers.groupby('Country')['Customer ID'].nunique().sort_values(ascending=False)\n",
    "\n",
    "# create a DataFrame with the list of loyal customers and their country\n",
    "loyal_customers_df = pd.DataFrame({'Country': loyal_customers['Country'], 'Customer ID': loyal_customers['Customer ID']})\n",
    "\n",
    "# print the resulting DataFrames\n",
    "print(\"Number of loyal customers by country:\")\n",
    "print(loyal_customers_by_country)\n",
    "\n",
    "print(\"\\nList of loyal customers and their country:\")\n",
    "print(loyal_customers_df)"
   ]
  },
  {
   "cell_type": "code",
   "execution_count": null,
   "id": "0201d09f-e598-49eb-ab65-fcdaae7b8206",
   "metadata": {},
   "outputs": [],
   "source": [
    "loyal_customers.shape"
   ]
  },
  {
   "cell_type": "markdown",
   "id": "30eafe99-376c-4034-a452-203e4b0732b1",
   "metadata": {},
   "source": [
    "### Observationss:-\n",
    "  for this dataset the number of loyal customers for each country in the dataset. It appears that the vast majority of loyal customers are from the United Kingdom, with 805 loyal customers identified. France and Germany have the next highest number of loyal customers, each with 23, followed by Belgium with 7, Switzerland with 4, and several other countries with 3 or fewer loyal customers identified."
   ]
  },
  {
   "cell_type": "markdown",
   "id": "04031f66-2e7a-4759-aa02-021fb46e4268",
   "metadata": {},
   "source": [
    "## What is the most popular time of year based on this sales data"
   ]
  },
  {
   "cell_type": "markdown",
   "id": "5bd1153d-6f84-4b93-9351-dd84d842ffd6",
   "metadata": {},
   "source": [
    "### For sheet-1"
   ]
  },
  {
   "cell_type": "code",
   "execution_count": 62,
   "id": "fa452e04-2b9d-4788-8333-a5afaa4be125",
   "metadata": {},
   "outputs": [
    {
     "name": "stdout",
     "output_type": "stream",
     "text": [
      "Year  Month\n",
      "2009  12       198307.760\n",
      "2010  1        165671.362\n",
      "      2        116774.536\n",
      "      3        268304.241\n",
      "      4        120708.372\n",
      "      5        142885.530\n",
      "      6        234869.690\n",
      "      7        100650.900\n",
      "      8        157778.090\n",
      "      9        223763.221\n",
      "      10       265973.340\n",
      "      11       301913.862\n",
      "      12       166198.750\n",
      "Name: Price, dtype: float64\n"
     ]
    }
   ],
   "source": [
    "# Convert the InvoiceDate column to a datetime object\n",
    "sh1['InvoiceDate'] = pd.to_datetime(sh1['InvoiceDate'])\n",
    "\n",
    "# Extract the year and month into separate columns\n",
    "sh1['Year'] = sh1['InvoiceDate'].dt.year\n",
    "sh1['Month'] = sh1['InvoiceDate'].dt.month\n",
    "\n",
    "# Group the data by year and month and calculate total sales\n",
    "monthly_sales = sh1.groupby(['Year', 'Month'])['Price'].sum()\n",
    "\n",
    "# Print the monthly sales data\n",
    "print(monthly_sales)"
   ]
  },
  {
   "cell_type": "markdown",
   "id": "96da055b-2829-4de8-bc00-c2009f2485fb",
   "metadata": {},
   "source": [
    "### For sheet-2"
   ]
  },
  {
   "cell_type": "code",
   "execution_count": 64,
   "id": "09dd6629-72ea-476f-97e9-7fd50a4e39cb",
   "metadata": {},
   "outputs": [
    {
     "name": "stdout",
     "output_type": "stream",
     "text": [
      "Year  Month\n",
      "2010  12       260520.850\n",
      "2011  1        172752.800\n",
      "      2        127448.770\n",
      "      3        171486.510\n",
      "      4        129164.961\n",
      "      5        190685.460\n",
      "      6        200717.340\n",
      "      7        171906.791\n",
      "      8        150385.680\n",
      "      9        199235.212\n",
      "      10       263434.090\n",
      "      11       327149.850\n",
      "      12       133933.660\n",
      "Name: Price, dtype: float64\n"
     ]
    }
   ],
   "source": [
    "# Convert the InvoiceDate column to a datetime object\n",
    "sh2['InvoiceDate'] = pd.to_datetime(sh2['InvoiceDate'])\n",
    "\n",
    "# Extract the year and month into separate columns\n",
    "sh2['Year'] = sh2['InvoiceDate'].dt.year\n",
    "sh2['Month'] = sh2['InvoiceDate'].dt.month\n",
    "\n",
    "# Group the data by year and month and calculate total sales\n",
    "monthly_sales = sh2.groupby(['Year', 'Month'])['Price'].sum()\n",
    "\n",
    "# Print the monthly sales data\n",
    "print(monthly_sales)"
   ]
  },
  {
   "cell_type": "markdown",
   "id": "8e4ab243-c143-4247-9d50-3519b5e60491",
   "metadata": {},
   "source": [
    "#### Observations:     (sheet-2)\n",
    "\n",
    "    1.The data has been grouped by year and month, and the total sales for each group have been calculated.\n",
    "    2.The year range is from 2010 to 2011, and the month range is from 1 to 12.\n",
    "    3.The highest sales were recorded in October 2011, with a total sales value of 263434.090, while the lowest sales were recorded in February 2011, with a total sales value of 127448.770.\n",
    "    4.There is a clear seasonality pattern in the data, with sales peaking in the last quarter of the year (October to December) and declining in the first quarter (January to March)."
   ]
  },
  {
   "cell_type": "markdown",
   "id": "059ab4fb-e81c-4b5b-91ba-9724bebee764",
   "metadata": {},
   "source": [
    "#### Observations:      (Sheet-1)\n",
    "\n",
    "    1.The sales for December 2009 were the highest, with a total of 198307.760.\n",
    "    2.There is a dip in sales in February 2010, with a total of 116774.536.\n",
    "    3.The sales increased significantly in March 2010 with a total of 268304.241.\n",
    "    4.The sales peaked in November 2010 with a total of 301913.862.\n",
    "    5.December 2010 had a total sales of 166198.750, which is lower than the sales in December 2009.\n",
    "\n",
    "\n"
   ]
  },
  {
   "cell_type": "markdown",
   "id": "3c93e73a-854d-4e57-a1a2-e72df82dc2f0",
   "metadata": {},
   "source": [
    "#### Is there any seasonality in data? Explain with supportive evidence."
   ]
  },
  {
   "cell_type": "markdown",
   "id": "a0ad404f-86b9-4985-ba1a-c8bfd7e7594c",
   "metadata": {},
   "source": [
    "###### Sheet -1"
   ]
  },
  {
   "cell_type": "code",
   "execution_count": 66,
   "id": "3be1ae73-ad28-4536-ba7b-013a20112bf6",
   "metadata": {},
   "outputs": [
    {
     "data": {
      "text/plain": [
       "<AxesSubplot:xlabel='Month'>"
      ]
     },
     "execution_count": 66,
     "metadata": {},
     "output_type": "execute_result"
    },
    {
     "data": {
      "image/png": "[encoded data removed]",
      "text/plain": [
       "<Figure size 640x480 with 1 Axes>"
      ]
     },
     "metadata": {},
     "output_type": "display_data"
    }
   ],
   "source": [
    "# Convert 'InvoiceDate' column to datetime format\n",
    "sh1['InvoiceDate'] = pd.to_datetime(sh1['InvoiceDate'])\n",
    "\n",
    "# Extract month from 'InvoiceDate'\n",
    "sh1['Month'] = sh1['InvoiceDate'].dt.month\n",
    "\n",
    "# Group sales by month and calculate the total sales for each month\n",
    "monthly_sales = sh1.groupby('Month')['Price'].sum()\n",
    "\n",
    "# Plot the sales pattern over each month\n",
    "monthly_sales.plot(kind='bar')"
   ]
  },
  {
   "cell_type": "markdown",
   "id": "04f26db8-f90e-4943-b320-25521aeacd83",
   "metadata": {},
   "source": [
    "###### Sheet -2"
   ]
  },
  {
   "cell_type": "code",
   "execution_count": 67,
   "id": "6ef03a2f-9c46-4629-acd8-b7224664e198",
   "metadata": {},
   "outputs": [
    {
     "data": {
      "text/plain": [
       "<AxesSubplot:xlabel='Month'>"
      ]
     },
     "execution_count": 67,
     "metadata": {},
     "output_type": "execute_result"
    },
    {
     "data": {
      "image/png": "[encoded data removed]",
      "text/plain": [
       "<Figure size 640x480 with 1 Axes>"
      ]
     },
     "metadata": {},
     "output_type": "display_data"
    }
   ],
   "source": [
    "# Convert 'InvoiceDate' column to datetime format\n",
    "sh2['InvoiceDate'] = pd.to_datetime(sh2['InvoiceDate'])\n",
    "\n",
    "# Extract month from 'InvoiceDate'\n",
    "sh2['Month'] = sh2['InvoiceDate'].dt.month\n",
    "\n",
    "# Group sales by month and calculate the total sales for each month\n",
    "monthly_sales = sh2.groupby('Month')['Price'].sum()\n",
    "\n",
    "# Plot the sales pattern over each month\n",
    "monthly_sales.plot(kind='bar')"
   ]
  },
  {
   "cell_type": "markdown",
   "id": "1fc584b2-6d08-4471-aff5-6b16a1185070",
   "metadata": {},
   "source": [
    "#### Observations:-  (in 2009,2010,2011)\n",
    "\n",
    "The monthly sales data indicates that there is a peak in sales in the month of December, which coincides with the Christmas festival. This suggests that customers tend to do more shopping during the festive season. To take advantage of this trend, businesses can create attractive offers and discounts during the holiday season to entice customers and increase sales. By doing so, businesses can capitalize on the increased demand and potentially generate higher revenue during this period. Therefore, it is important to analyze the sales data to identify such trends and take appropriate actions to ensure customer satisfaction and increase profitability."
   ]
  },
  {
   "cell_type": "markdown",
   "id": "f1393292-416e-4f5f-8260-0e80544ad63c",
   "metadata": {},
   "source": [
    "## Discuss customer's lifetime with respect to the given dataset."
   ]
  },
  {
   "cell_type": "markdown",
   "id": "22211104-dcab-4542-a777-c77efa478ba9",
   "metadata": {},
   "source": [
    "#### Sheet-1"
   ]
  },
  {
   "cell_type": "code",
   "execution_count": 70,
   "id": "888e59da-97e6-44cd-9160-e86ddf6208ee",
   "metadata": {},
   "outputs": [],
   "source": [
    "revenue_per_customer = sh1.groupby('Customer ID').apply(lambda x: (x['Quantity'] * x['Price']).sum())\n",
    "# Calculate the average order value (AOV) for each customer\n",
    "num_transactions_per_customer = sh1.groupby('Customer ID')['Invoice'].nunique()\n",
    "aov_per_customer = revenue_per_customer / num_transactions_per_customer\n",
    "\n",
    "# Calculate the customer lifetime value (CLV)\n",
    "average_lifespan = 3 # assuming an average customer lifespan of 3 years\n",
    "num_transactions_per_year = num_transactions_per_customer / average_lifespan\n",
    "clv_per_customer = aov_per_customer * num_transactions_per_year"
   ]
  },
  {
   "cell_type": "code",
   "execution_count": 71,
   "id": "fb76e344-4187-4dbd-8e49-aa830a52c76e",
   "metadata": {},
   "outputs": [
    {
     "data": {
      "text/plain": [
       "Customer ID\n",
       "12346.0    -21.560000\n",
       "12347.0    441.106667\n",
       "12348.0     74.053333\n",
       "12349.0    882.330000\n",
       "12351.0    100.310000\n",
       "              ...    \n",
       "18283.0    213.923333\n",
       "18284.0    145.560000\n",
       "18285.0    142.333333\n",
       "18286.0    396.143333\n",
       "18287.0    780.203333\n",
       "Length: 4383, dtype: float64"
      ]
     },
     "execution_count": 71,
     "metadata": {},
     "output_type": "execute_result"
    }
   ],
   "source": [
    "clv_per_customer "
   ]
  },
  {
   "cell_type": "markdown",
   "id": "478e0a9c-84a5-4000-aaca-ff631540cdad",
   "metadata": {},
   "source": [
    "#### Observation:-\n",
    " \n",
    " For example, customer ID 12347 has a CLV of 441.11, which means that this customer has spent 441.11 pounds more than the average customer over the assumed 3-year lifespan. On the other hand, customer ID 12346 has a negative CLV of -21.56, which means that this customer has spent 21.56 pounds less than the average customer over the assumed 3-year lifespan."
   ]
  },
  {
   "cell_type": "markdown",
   "id": "569696d4-029d-43e0-81f5-de89005c2e2b",
   "metadata": {},
   "source": [
    "##### Sheet-2"
   ]
  },
  {
   "cell_type": "code",
   "execution_count": 72,
   "id": "499dd564-eee5-45bc-83a5-95b6295dfe5d",
   "metadata": {},
   "outputs": [],
   "source": [
    "revenue_per_customer = sh2.groupby('Customer ID').apply(lambda x: (x['Quantity'] * x['Price']).sum())\n",
    "# Calculate the average order value (AOV) for each customer\n",
    "num_transactions_per_customer = sh2.groupby('Customer ID')['Invoice'].nunique()\n",
    "aov_per_customer = revenue_per_customer / num_transactions_per_customer\n",
    "\n",
    "# Calculate the customer lifetime value (CLV)\n",
    "average_lifespan = 3 # assuming an average customer lifespan of 3 years\n",
    "num_transactions_per_year = num_transactions_per_customer / average_lifespan\n",
    "clv_per_customer = aov_per_customer * num_transactions_per_year"
   ]
  },
  {
   "cell_type": "code",
   "execution_count": 73,
   "id": "b41620d9-b374-4f5b-87f7-621b0c02d6e2",
   "metadata": {},
   "outputs": [
    {
     "data": {
      "text/plain": [
       "Customer ID\n",
       "12346.0       0.000000\n",
       "12347.0    1436.666667\n",
       "12348.0     599.080000\n",
       "12349.0     585.850000\n",
       "12350.0     111.466667\n",
       "              ...     \n",
       "18280.0      60.200000\n",
       "18281.0      26.940000\n",
       "18282.0      58.866667\n",
       "18283.0     698.293333\n",
       "18287.0     612.426667\n",
       "Length: 4372, dtype: float64"
      ]
     },
     "execution_count": 73,
     "metadata": {},
     "output_type": "execute_result"
    }
   ],
   "source": [
    "clv_per_customer"
   ]
  },
  {
   "cell_type": "markdown",
   "id": "bb3a4c0b-554f-43f3-b669-6a86c9bb76b9",
   "metadata": {},
   "source": [
    "### Observations:-\n",
    "\n",
    "For example, customer with ID 12347 is estimated to generate a CLV of 1436.67 based on their average order value and estimated number of transactions per year, while customer with ID 12346 is estimated to generate no revenue over their lifetime with the company."
   ]
  },
  {
   "cell_type": "code",
   "execution_count": null,
   "id": "9ba5f303-9f19-4702-999a-1b82c725cadc",
   "metadata": {},
   "outputs": [],
   "source": []
  }
 ],
 "metadata": {
  "kernelspec": {
   "display_name": "Python 3 (ipykernel)",
   "language": "python",
   "name": "python3"
  },
  "language_info": {
   "codemirror_mode": {
    "name": "ipython",
    "version": 3
   },
   "file_extension": ".py",
   "mimetype": "text/x-python",
   "name": "python",
   "nbconvert_exporter": "python",
   "pygments_lexer": "ipython3",
   "version": "3.9.13"
  }
 },
 "nbformat": 4,
 "nbformat_minor": 5
}
